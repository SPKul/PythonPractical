{
 "cells": [
  {
   "cell_type": "code",
   "execution_count": 2,
   "id": "07b3ff72",
   "metadata": {},
   "outputs": [
    {
     "name": "stdout",
     "output_type": "stream",
     "text": [
      "Valid Email\n",
      "Invalid Email\n",
      "Valid Email\n"
     ]
    }
   ],
   "source": [
    "import re   \n",
    "  \n",
    "regex = '^[a-z0-9]+[\\._]?[a-z0-9]+[@]\\w+[.]\\w{2,3}$'  \n",
    "  \n",
    "def check(email):   \n",
    "  \n",
    "    if(re.search(regex,email)):   \n",
    "        print(\"Valid Email\")   \n",
    "    else:   \n",
    "        print(\"Invalid Email\")   \n",
    "      \n",
    "if __name__ == '__main__' :   \n",
    "      \n",
    "    email = \"rohit.gupta@mcnsolutions.net\"  \n",
    "    check(email)   \n",
    "  \n",
    "    email = \"praveen@c-sharpcorner.com\"  \n",
    "    check(email)   \n",
    "  \n",
    "    email = \"inform2atul@gmail.com\"  \n",
    "    check(email) "
   ]
  },
  {
   "cell_type": "code",
   "execution_count": null,
   "id": "51955257",
   "metadata": {},
   "outputs": [],
   "source": []
  }
 ],
 "metadata": {
  "kernelspec": {
   "display_name": "Python 3",
   "language": "python",
   "name": "python3"
  },
  "language_info": {
   "codemirror_mode": {
    "name": "ipython",
    "version": 3
   },
   "file_extension": ".py",
   "mimetype": "text/x-python",
   "name": "python",
   "nbconvert_exporter": "python",
   "pygments_lexer": "ipython3",
   "version": "3.8.8"
  }
 },
 "nbformat": 4,
 "nbformat_minor": 5
}
