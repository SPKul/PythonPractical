{
 "cells": [
  {
   "cell_type": "code",
   "execution_count": 6,
   "id": "94a16d24",
   "metadata": {},
   "outputs": [
    {
     "name": "stdout",
     "output_type": "stream",
     "text": [
      "Roll number : 1\n",
      "Name  abc\n",
      "Total Students : 1\n",
      "Roll number : 2\n",
      "Name  xyz\n",
      "Total Students : 2\n",
      "Roll number : 3\n",
      "Name  aaa\n",
      "zzz\n"
     ]
    }
   ],
   "source": [
    "class Student:\n",
    "    counter = 0\n",
    "    classname = \"MCA1\"\n",
    "    \n",
    "    def __init__(self, r, n):\n",
    "        self.rollno = r\n",
    "        self.name=n\n",
    "        Student.counter += 1\n",
    "        \n",
    "    def display(self):\n",
    "        print(\"Roll number :\",self.rollno)\n",
    "        print(\"Name \",self.name)\n",
    "        \n",
    "    #setter method\n",
    "    def set_name(self,name):\n",
    "        self.name = name\n",
    "        \n",
    "    #getter method\n",
    "    def get_name(self):\n",
    "        return self.name\n",
    "    \n",
    "    @classmethod\n",
    "    def displaytotal(cls):\n",
    "        print(\"Total Students :\",Student.counter)\n",
    "        \n",
    "    @staticmethod\n",
    "    def dispclass():\n",
    "        print(\"Student class name is: \",Student.classname)\n",
    "\n",
    "s1 = Student(1, \"abc\")\n",
    "s1.display()\n",
    "Student.displaytotal()\n",
    "s2 = Student(2, \"xyz\")\n",
    "s2.display()\n",
    "Student.displaytotal()\n",
    "s3 = Student(3,\"aaa\")\n",
    "s3.display()\n",
    "s3.set_name(\"zzz\")\n",
    "print(s3.get_name())"
   ]
  },
  {
   "cell_type": "code",
   "execution_count": null,
   "id": "3159e633",
   "metadata": {},
   "outputs": [],
   "source": []
  }
 ],
 "metadata": {
  "kernelspec": {
   "display_name": "Python 3",
   "language": "python",
   "name": "python3"
  },
  "language_info": {
   "codemirror_mode": {
    "name": "ipython",
    "version": 3
   },
   "file_extension": ".py",
   "mimetype": "text/x-python",
   "name": "python",
   "nbconvert_exporter": "python",
   "pygments_lexer": "ipython3",
   "version": "3.8.8"
  }
 },
 "nbformat": 4,
 "nbformat_minor": 5
}
