{
 "cells": [
  {
   "cell_type": "code",
   "execution_count": null,
   "id": "76a3992f",
   "metadata": {},
   "outputs": [
    {
     "name": "stdout",
     "output_type": "stream",
     "text": [
      "Your Balance = 1000 \n",
      "Enter Amount = 22\n",
      "You Withdrew!!\n",
      "\n"
     ]
    }
   ],
   "source": [
    "#wap to implement any user defined exception. Accept amount to withdraw fromuser .If balance - amount <1000, generate exception>\n",
    "\n",
    "class Error(Exception):\n",
    "    \"\"\"Base class for other exception\"\"\"\n",
    "    pass\n",
    "class ValueTooSmallError(Error):\n",
    "    \"\"\"Raise when the input value is too small\"\"\"\n",
    "    pass\n",
    "class ValueTooLargeError(Error):\n",
    "    \"\"\"Raise when the input value is too laege\"\"\"\n",
    "    pass\n",
    "print(\"Your Balance = 1000 \") \n",
    "while True:\n",
    "  try:\n",
    "      amt = int(input(\"Enter Amount = \"))\n",
    "      if amt < 1000:\n",
    "         raise ValueTooSmallError\n",
    "      elif amt > 1000:\n",
    "         raise ValueTooLargeError\n",
    "      break\n",
    "  except ValueTooSmallError:\n",
    "         print(\"You Withdrew!!\")\n",
    "         print()\n",
    "  except ValueTooLargeError:\n",
    "         print(\"Insufficient balance!! , Try again\")\n",
    "         print()"
   ]
  },
  {
   "cell_type": "code",
   "execution_count": null,
   "id": "76121430",
   "metadata": {},
   "outputs": [],
   "source": []
  }
 ],
 "metadata": {
  "kernelspec": {
   "display_name": "Python 3",
   "language": "python",
   "name": "python3"
  },
  "language_info": {
   "codemirror_mode": {
    "name": "ipython",
    "version": 3
   },
   "file_extension": ".py",
   "mimetype": "text/x-python",
   "name": "python",
   "nbconvert_exporter": "python",
   "pygments_lexer": "ipython3",
   "version": "3.8.8"
  }
 },
 "nbformat": 4,
 "nbformat_minor": 5
}
