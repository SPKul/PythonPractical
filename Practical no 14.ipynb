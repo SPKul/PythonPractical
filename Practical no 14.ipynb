{
 "cells": [
  {
   "cell_type": "code",
   "execution_count": 1,
   "id": "008383a5",
   "metadata": {},
   "outputs": [
    {
     "name": "stdout",
     "output_type": "stream",
     "text": [
      "Enter a:2\n",
      "Enter b:2\n",
      "Result is 1\n",
      "Hey I am else block\n"
     ]
    }
   ],
   "source": [
    " #1. Exception\n",
    "try:\n",
    "   a=int(input(\"Enter a:\"))\n",
    "   b=int(input(\"Enter b:\"))\n",
    "   c=a/b\n",
    "   print(\"Result is %d\"%c)\n",
    "except Exception as e:\n",
    "   print(\"Can't Divide with Zero\")\n",
    "   print(e)\n",
    "else:\n",
    "  print(\"Hey I am else block\")\n"
   ]
  },
  {
   "cell_type": "code",
   "execution_count": 2,
   "id": "419d7eb6",
   "metadata": {},
   "outputs": [
    {
     "name": "stdout",
     "output_type": "stream",
     "text": [
      "Arthmetic Exception\n"
     ]
    }
   ],
   "source": [
    "#2.Arthmetic Exception\n",
    "try:\n",
    "  a=10/0;\n",
    "except(ArithmeticError, IOError):\n",
    "  print(\"Arthmetic Exception\")\n",
    "else:\n",
    "  print(\"Successfully Done\")\n"
   ]
  },
  {
   "cell_type": "code",
   "execution_count": 3,
   "id": "e0294809",
   "metadata": {},
   "outputs": [
    {
     "name": "stdout",
     "output_type": "stream",
     "text": [
      "File not Found\n"
     ]
    }
   ],
   "source": [
    " #3. IOError\n",
    "try:\n",
    "  fileptr = open(\"file.txt\",\"r\")\n",
    "except IOError:\n",
    "  print(\"File not Found\")\n",
    "else:\n",
    "   print(\"The File opened Successfully\")\n",
    "   fileptr.close()\n"
   ]
  },
  {
   "cell_type": "code",
   "execution_count": 4,
   "id": "38da9806",
   "metadata": {},
   "outputs": [
    {
     "ename": "IndentationError",
     "evalue": "unexpected indent (<ipython-input-4-7a594c97dbe6>, line 2)",
     "output_type": "error",
     "traceback": [
      "\u001b[1;36m  File \u001b[1;32m\"<ipython-input-4-7a594c97dbe6>\"\u001b[1;36m, line \u001b[1;32m2\u001b[0m\n\u001b[1;33m    try:\u001b[0m\n\u001b[1;37m    ^\u001b[0m\n\u001b[1;31mIndentationError\u001b[0m\u001b[1;31m:\u001b[0m unexpected indent\n"
     ]
    }
   ],
   "source": [
    " #4. ValueError\n",
    "  try:\n",
    "    age = int(input(\"Enter the age:\"))\n",
    "    if(age<18):\n",
    "      raise ValueError\n",
    "    else:\n",
    "      print(\"The ahe is Valid\")\n",
    "except ValueError:\n",
    "      print(\"The age is not Valid \")\n"
   ]
  },
  {
   "cell_type": "code",
   "execution_count": 5,
   "id": "026c8d57",
   "metadata": {},
   "outputs": [
    {
     "name": "stdout",
     "output_type": "stream",
     "text": [
      "Overflow Error\n"
     ]
    }
   ],
   "source": [
    " #catch OverflowError Exception\n",
    "import math\n",
    "try:\n",
    "    a = math.exp(1000)\n",
    "except OverflowError:\n",
    "       print(\"Overflow Error\")"
   ]
  },
  {
   "cell_type": "code",
   "execution_count": null,
   "id": "e661fa5c",
   "metadata": {},
   "outputs": [],
   "source": []
  }
 ],
 "metadata": {
  "kernelspec": {
   "display_name": "Python 3",
   "language": "python",
   "name": "python3"
  },
  "language_info": {
   "codemirror_mode": {
    "name": "ipython",
    "version": 3
   },
   "file_extension": ".py",
   "mimetype": "text/x-python",
   "name": "python",
   "nbconvert_exporter": "python",
   "pygments_lexer": "ipython3",
   "version": "3.8.8"
  }
 },
 "nbformat": 4,
 "nbformat_minor": 5
}
