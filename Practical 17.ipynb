{
 "cells": [
  {
   "cell_type": "code",
   "execution_count": null,
   "id": "7d6a0112",
   "metadata": {},
   "outputs": [],
   "source": [
    "#WRITE A PROGRAM  to display date in following format “Friday, 23 April 2017”"
   ]
  },
  {
   "cell_type": "code",
   "execution_count": 8,
   "id": "07636e48",
   "metadata": {},
   "outputs": [
    {
     "name": "stdout",
     "output_type": "stream",
     "text": [
      "\n",
      "Day and Date format:\n",
      "Tuesday, 14 September 2021\n"
     ]
    }
   ],
   "source": [
    "import time\n",
    "print(\"\\nDay and Date format:\")\n",
    "s = time.strftime(\"%A, %d %B %Y\", time.gmtime())\n",
    "print(s)"
   ]
  },
  {
   "cell_type": "code",
   "execution_count": null,
   "id": "49a085d0",
   "metadata": {},
   "outputs": [],
   "source": []
  }
 ],
 "metadata": {
  "kernelspec": {
   "display_name": "Python 3",
   "language": "python",
   "name": "python3"
  },
  "language_info": {
   "codemirror_mode": {
    "name": "ipython",
    "version": 3
   },
   "file_extension": ".py",
   "mimetype": "text/x-python",
   "name": "python",
   "nbconvert_exporter": "python",
   "pygments_lexer": "ipython3",
   "version": "3.8.8"
  }
 },
 "nbformat": 4,
 "nbformat_minor": 5
}
