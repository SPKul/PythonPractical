{
  "nbformat": 4,
  "nbformat_minor": 0,
  "metadata": {
    "colab": {
      "name": "Assignment-29.ipynb",
      "provenance": [],
      "collapsed_sections": []
    },
    "kernelspec": {
      "name": "python3",
      "display_name": "Python 3"
    },
    "language_info": {
      "name": "python"
    }
  },
  "cells": [
    {
      "cell_type": "code",
      "metadata": {
        "id": "W-hFl4e3tFtl"
      },
      "source": [
        "import pandas as pd\n",
        "import matplotlib.pyplot as plt\n",
        "import numpy as np\n",
        "%matplotlib inline\n",
        "\n",
        "path =\"/sales.csv\"\n",
        "sale = pd.read_csv(path)\n",
        "sale.describe\n",
        "x = sale['year']\n",
        "y = sale['jan']\n",
        "plt.xlabel('year',fontsize=18)\n",
        "plt.ylabel('Sales',fontsize=16)\n",
        "plt.bar(x,y)\n",
        "plt.show()"
      ],
      "execution_count": null,
      "outputs": []
    },
    {
      "cell_type": "code",
      "metadata": {
        "id": "YCeGNCZ1v58T"
      },
      "source": [
        "x = sale['year']\n",
        "y = sale['feb']\n",
        "plt.xlabel('year',fontsize=18)\n",
        "plt.ylabel('Sales',fontsize=16)\n",
        "plt.bar(x,y)\n",
        "plt.show()"
      ],
      "execution_count": null,
      "outputs": []
    },
    {
      "cell_type": "code",
      "metadata": {
        "id": "LaOvr-U354K3"
      },
      "source": [
        "x = sale['year']\n",
        "y = sale['mar']\n",
        "plt.xlabel('year',fontsize=18)\n",
        "plt.ylabel('Sales',fontsize=16)\n",
        "plt.bar(x,y)\n",
        "plt.show()"
      ],
      "execution_count": null,
      "outputs": []
    },
    {
      "cell_type": "code",
      "metadata": {
        "id": "qeEtqsjG58h8"
      },
      "source": [
        "x = sale['year']\n",
        "y = sale['apr']\n",
        "plt.xlabel('year',fontsize=18)\n",
        "plt.ylabel('Sales',fontsize=16)\n",
        "plt.bar(x,y)\n",
        "plt.show()"
      ],
      "execution_count": null,
      "outputs": []
    },
    {
      "cell_type": "code",
      "metadata": {
        "id": "wnR84IamwG8t"
      },
      "source": [
        "x = sale['year']\n",
        "y = sale['may']\n",
        "plt.xlabel('year',fontsize=18)\n",
        "plt.ylabel('Sales',fontsize=16)\n",
        "plt.bar(x,y)\n",
        "plt.show()"
      ],
      "execution_count": null,
      "outputs": []
    },
    {
      "cell_type": "code",
      "metadata": {
        "id": "Ib1IMGAD6GFw"
      },
      "source": [
        "x = sale['year']\n",
        "y = sale['jun']\n",
        "plt.xlabel('year',fontsize=18)\n",
        "plt.ylabel('Sales',fontsize=16)\n",
        "plt.bar(x,y)\n",
        "plt.show()"
      ],
      "execution_count": null,
      "outputs": []
    },
    {
      "cell_type": "code",
      "metadata": {
        "id": "k-IfquuV6W7X"
      },
      "source": [
        "x = sale['year']\n",
        "y = sale['jul']\n",
        "plt.xlabel('year',fontsize=18)\n",
        "plt.ylabel('Sales',fontsize=16)\n",
        "plt.bar(x,y)\n",
        "plt.show()"
      ],
      "execution_count": null,
      "outputs": []
    },
    {
      "cell_type": "code",
      "metadata": {
        "id": "fJsvDWOl6mYO"
      },
      "source": [
        "x = sale['year']\n",
        "y = sale['aug']\n",
        "plt.xlabel('year',fontsize=18)\n",
        "plt.ylabel('Sales',fontsize=16)\n",
        "plt.bar(x,y)\n",
        "plt.show()"
      ],
      "execution_count": null,
      "outputs": []
    },
    {
      "cell_type": "code",
      "metadata": {
        "id": "k7wV7KS16pjl"
      },
      "source": [
        "x = sale['year']\n",
        "y = sale['sept']\n",
        "plt.xlabel('year',fontsize=18)\n",
        "plt.ylabel('Sales',fontsize=16)\n",
        "plt.bar(x,y)\n",
        "plt.show()"
      ],
      "execution_count": null,
      "outputs": []
    },
    {
      "cell_type": "code",
      "metadata": {
        "id": "iQrFt-q16t-y"
      },
      "source": [
        "x = sale['year']\n",
        "y = sale['Nov']\n",
        "plt.xlabel('year',fontsize=18)\n",
        "plt.ylabel('Sales',fontsize=16)\n",
        "plt.bar(x,y)\n",
        "plt.show()"
      ],
      "execution_count": null,
      "outputs": []
    },
    {
      "cell_type": "code",
      "metadata": {
        "id": "IKvBzTK_6ybt"
      },
      "source": [
        "x = sale['year']\n",
        "y = sale['Dec']\n",
        "plt.xlabel('year',fontsize=18)\n",
        "plt.ylabel('Sales',fontsize=16)\n",
        "plt.bar(x,y)\n",
        "plt.show()"
      ],
      "execution_count": null,
      "outputs": []
    }
  ]
}