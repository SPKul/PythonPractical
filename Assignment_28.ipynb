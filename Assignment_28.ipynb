{
  "nbformat": 4,
  "nbformat_minor": 0,
  "metadata": {
    "colab": {
      "name": "Assignment-28.ipynb",
      "provenance": [],
      "collapsed_sections": []
    },
    "kernelspec": {
      "name": "python3",
      "display_name": "Python 3"
    },
    "language_info": {
      "name": "python"
    }
  },
  "cells": [
    {
      "cell_type": "code",
      "metadata": {
        "colab": {
          "base_uri": "https://localhost:8080/"
        },
        "id": "rUkRRqpYEJWa",
        "outputId": "0fdd558f-db69-4e78-ff76-43700be1c1a3"
      },
      "source": [
        "from google.colab import drive\n",
        "drive.mount('/content/drive')"
      ],
      "execution_count": null,
      "outputs": [
        {
          "output_type": "stream",
          "name": "stdout",
          "text": [
            "Mounted at /content/drive\n"
          ]
        }
      ]
    },
    {
      "cell_type": "code",
      "metadata": {
        "id": "jthwg8dNIWO-"
      },
      "source": [
        "import pandas as pd\n",
        "path =\"/content/drive/MyDrive/baseball.csv\"\n",
        "data = pd.read_csv(path)\n",
        "data\n"
      ],
      "execution_count": null,
      "outputs": []
    },
    {
      "cell_type": "code",
      "metadata": {
        "id": "anOzBoi8LJKo"
      },
      "source": [
        "data.head()"
      ],
      "execution_count": null,
      "outputs": []
    },
    {
      "cell_type": "markdown",
      "metadata": {
        "id": "ree4jNT1MwRC"
      },
      "source": [
        "Data Cleaning Using Pandas"
      ]
    },
    {
      "cell_type": "code",
      "metadata": {
        "id": "n9_fKxFTKe-v"
      },
      "source": [
        "#Using isnull() function:\n",
        "data.isnull()"
      ],
      "execution_count": null,
      "outputs": []
    },
    {
      "cell_type": "code",
      "metadata": {
        "id": "ROF2FcHlL3XA"
      },
      "source": [
        "#Using isna() function:\n",
        "data.isna().any()"
      ],
      "execution_count": null,
      "outputs": []
    },
    {
      "cell_type": "code",
      "metadata": {
        "id": "WBQrPiGkNMkU"
      },
      "source": [
        "#Using isna().any()\n",
        "data.isna().any()"
      ],
      "execution_count": null,
      "outputs": []
    },
    {
      "cell_type": "code",
      "metadata": {
        "id": "anlXlhW3MGFi",
        "colab": {
          "base_uri": "https://localhost:8080/"
        },
        "outputId": "dcf31926-ff80-4bb0-872b-c8e271eb2183"
      },
      "source": [
        "#Using isna(). sum()\n",
        "data.isna().any().sum()"
      ],
      "execution_count": null,
      "outputs": [
        {
          "output_type": "execute_result",
          "data": {
            "text/plain": [
              "1"
            ]
          },
          "metadata": {},
          "execution_count": 12
        }
      ]
    },
    {
      "cell_type": "code",
      "metadata": {
        "id": "m_d7Qw4wMQET"
      },
      "source": [
        "#De-Duplicate\n",
        "data.duplicated()"
      ],
      "execution_count": null,
      "outputs": []
    },
    {
      "cell_type": "code",
      "metadata": {
        "id": "6XtPZix9N2_z"
      },
      "source": [
        "# display information about data\n",
        "\n",
        "data.info()\n"
      ],
      "execution_count": null,
      "outputs": []
    }
  ]
}