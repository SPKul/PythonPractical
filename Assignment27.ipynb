{
  "nbformat": 4,
  "nbformat_minor": 0,
  "metadata": {
    "colab": {
      "name": "Assignment27.ipynb",
      "provenance": [],
      "collapsed_sections": []
    },
    "kernelspec": {
      "name": "python3",
      "display_name": "Python 3"
    },
    "language_info": {
      "name": "python"
    }
  },
  "cells": [
    {
      "cell_type": "code",
      "metadata": {
        "id": "oUNqCjCZCIcK"
      },
      "source": [
        "import numpy as np\n",
        "array = np.arange(12,38)\n",
        "array\n"
      ],
      "execution_count": null,
      "outputs": []
    },
    {
      "cell_type": "code",
      "metadata": {
        "id": "8wkr_tUiIT36"
      },
      "source": [
        "import numpy as np\n",
        "matrix = np.array([[1,2,3],[4,5,6],[7,8,9]])\n",
        "print(matrix)"
      ],
      "execution_count": null,
      "outputs": []
    },
    {
      "cell_type": "code",
      "metadata": {
        "id": "Sg3CaiioJZvw"
      },
      "source": [
        "import numpy as np\n",
        "\n",
        "arr1 = np.array([[1, 2, 3], [4, 5, 6]])\n",
        "\n",
        "print(f'Original Array:\\n{arr1}')\n",
        "\n",
        "arr1_transpose = arr1.transpose()\n",
        "\n",
        "print(f'Transposed Array:\\n{arr1_transpose}')"
      ],
      "execution_count": null,
      "outputs": []
    }
  ]
}