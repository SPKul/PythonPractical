{
  "nbformat": 4,
  "nbformat_minor": 0,
  "metadata": {
    "colab": {
      "name": "Assignment-16.ipynb",
      "provenance": [],
      "collapsed_sections": []
    },
    "kernelspec": {
      "name": "python3",
      "display_name": "Python 3"
    },
    "language_info": {
      "name": "python"
    }
  },
  "cells": [
    {
      "cell_type": "code",
      "metadata": {
        "colab": {
          "base_uri": "https://localhost:8080/"
        },
        "id": "rqC4iEDEmSfz",
        "outputId": "f97e4367-7526-4774-e3a9-4a76932c5e15"
      },
      "source": [
        "#Write a module to implement following arithmetic functions : add, subtract, multiply & division , log , pow, sqrt, sin, cost tan.\n",
        "#Write a menu driven program to use these functions.\n",
        "from math import log,e, pow, sqrt\n",
        "print(\"---------Menu-----------\")\n",
        "print(\"1. Addition Function\")\n",
        "print(\"2. Subtraction Function \")\n",
        "print(\"3. Mulitiplication Function\")\n",
        "print(\"4. Division Function\")\n",
        "print(\"5. log Function\")\n",
        "print(\"6. pow Function\")\n",
        "print(\"7. sqrt Function\")\n",
        "print(\"8. sin Function\")\n",
        "print(\"9. cost Function\")\n",
        "print(\"10. tan Function\")\n",
        "print(\"11. Exit\")\n",
        "\n",
        "num1 = int(input(\"Enter First Number: \"))\n",
        "num2 = int(input(\"Enter Second Number: \"))\n",
        "\n",
        "print(\"Enter which operation would you like to perform?\")\n",
        "ch = input(\"Select option : \")\n",
        "\n",
        "result = 0\n",
        "if ch == '1':\n",
        "    result = num1 + num2\n",
        "elif ch == '2':\n",
        "    result = num1 - num2\n",
        "elif ch == '3':\n",
        "    result = num1 * num2\n",
        "elif ch == '4':\n",
        "    result = num1 / num2\n",
        "elif ch == '5':\n",
        "    result=log(num1*e**num2)    \n",
        "elif ch == '6':\n",
        "    result = pow(num1,num2)\n",
        "elif ch == '7':\n",
        "    result = sqrt(num1**2 + num2**2)\n",
        "elif ch == '8':\n",
        "    result = sin(pi/num1)\n",
        "elif ch == '9':\n",
        "    result = cos(pi/num1)\n",
        "elif ch == '10':\n",
        "    result = tan(pi/num2)\n",
        "elif ch == '11':\n",
        "     exit()\n",
        "else:\n",
        "    print(\"Input Arithmetic Function is not recognized!\")\n",
        "\n",
        "print(\"Answer : \",result)"
      ],
      "execution_count": null,
      "outputs": [
        {
          "output_type": "stream",
          "name": "stdout",
          "text": [
            "---------Menu-----------\n",
            "1. Addition Function\n",
            "2. Subtraction Function \n",
            "3. Mulitiplication Function\n",
            "4. Division Function\n",
            "5. log Function\n",
            "6. pow Function\n",
            "7. sqrt Function\n",
            "8. sin Function\n",
            "9. cost Function\n",
            "10. tan Function\n",
            "11. Exit\n",
            "Enter First Number: 6\n",
            "Enter Second Number: 5\n",
            "Enter which operation would you like to perform?\n",
            "Select option : 8\n",
            "Answer :  0.49999999999999994\n"
          ]
        }
      ]
    }
  ]
}