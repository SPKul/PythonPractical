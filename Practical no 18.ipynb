{
 "cells": [
  {
   "cell_type": "code",
   "execution_count": null,
   "id": "f507a135",
   "metadata": {},
   "outputs": [],
   "source": [
    "#Write a program to display number of days remaining upto 31st Dec 2020"
   ]
  },
  {
   "cell_type": "code",
   "execution_count": 19,
   "id": "bbef1282",
   "metadata": {},
   "outputs": [
    {
     "name": "stdout",
     "output_type": "stream",
     "text": [
      "Difference:  108 days, 0:00:00\n"
     ]
    }
   ],
   "source": [
    "# import datetime\n",
    "from datetime import datetime\n",
    "# create two dates with year, month, day, hour, minute, and second\n",
    "date1 = datetime(2021, 12, 31)\n",
    "date2 = datetime(2021, 9, 14)\n",
    "\n",
    "# Difference between two dates\n",
    "diff = date1-date2\n",
    "print(\"Difference: \", diff)"
   ]
  },
  {
   "cell_type": "code",
   "execution_count": null,
   "id": "a61210c6",
   "metadata": {},
   "outputs": [],
   "source": []
  }
 ],
 "metadata": {
  "kernelspec": {
   "display_name": "Python 3",
   "language": "python",
   "name": "python3"
  },
  "language_info": {
   "codemirror_mode": {
    "name": "ipython",
    "version": 3
   },
   "file_extension": ".py",
   "mimetype": "text/x-python",
   "name": "python",
   "nbconvert_exporter": "python",
   "pygments_lexer": "ipython3",
   "version": "3.8.8"
  }
 },
 "nbformat": 4,
 "nbformat_minor": 5
}
